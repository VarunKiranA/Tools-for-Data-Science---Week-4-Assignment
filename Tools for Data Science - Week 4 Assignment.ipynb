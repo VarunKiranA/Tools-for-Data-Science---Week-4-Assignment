{
 "cells": [
  {
   "cell_type": "markdown",
   "id": "c67a2b7e",
   "metadata": {},
   "source": [
    "# My Jupyter Notebook on IBM Watson Studio"
   ]
  },
  {
   "cell_type": "markdown",
   "id": "a461feca",
   "metadata": {},
   "source": [
    "**A Varun Kiran**\n",
    "<br>\n",
    "System Configuration Analyst"
   ]
  },
  {
   "cell_type": "markdown",
   "id": "3b9c0849",
   "metadata": {},
   "source": [
    "*I am interested in Data Science because working with data is definitely 'interesting'.*\n",
    "<br>\n",
    "*All steps involved, right from sourcing it, cleaning and manipulating it and deriving insights and finding solutions to business problems using it is an interesting process.*"
   ]
  },
  {
   "cell_type": "markdown",
   "id": "4638f3c7",
   "metadata": {},
   "source": [
    "### In the code cell below, the value 10 is assigned to the variable x and is printed out."
   ]
  },
  {
   "cell_type": "code",
   "execution_count": 1,
   "id": "51ed66c7",
   "metadata": {},
   "outputs": [
    {
     "name": "stdout",
     "output_type": "stream",
     "text": [
      "10\n"
     ]
    }
   ],
   "source": [
    "x = 10\n",
    "print(x)"
   ]
  },
  {
   "cell_type": "markdown",
   "id": "3646a587",
   "metadata": {},
   "source": [
    "~~This is a sample struck-out text.~~\n",
    "---\n",
    "| Sample | Markdown | Table |\n",
    "| --- | --- | --- |\n",
    "| Sample | Markdown | Table |\n",
    "| Sample | Markdown | Table |\n",
    "\n",
    "[Clicking on this link takes you to the Google homepage.](https://www.google.com)"
   ]
  }
 ],
 "metadata": {
  "kernelspec": {
   "display_name": "Python 3",
   "language": "python",
   "name": "python3"
  },
  "language_info": {
   "codemirror_mode": {
    "name": "ipython",
    "version": 3
   },
   "file_extension": ".py",
   "mimetype": "text/x-python",
   "name": "python",
   "nbconvert_exporter": "python",
   "pygments_lexer": "ipython3",
   "version": "3.8.8"
  }
 },
 "nbformat": 4,
 "nbformat_minor": 5
}
